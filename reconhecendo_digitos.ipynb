{
    "cells": [
        {
            "cell_type": "code",
            "execution_count": 37,
            "source": [
                "import numpy as np\n",
                "import torch\n",
                "import torch.nn.functional as F\n",
                "import matplotlib.pyplot as plt\n",
                "from time import time\n",
                "from torchvision import datasets, transforms # dataset com o MNIST\n",
                "from torch import nn, optim"
            ],
            "outputs": [],
            "metadata": {}
        },
        {
            "cell_type": "code",
            "execution_count": 38,
            "source": [
                "tensor = transforms.ToTensor()\n",
                "\n",
                "conjuntoTreino = datasets.MNIST('./MNIST_data/', download=True, train=True, transform=tensor)\n",
                "loteTreino = torch.utils.data.DataLoader(conjuntoTreino, batch_size=64, shuffle=True)\n",
                "\n",
                "conjuntoValidacao = datasets.MNIST('./MNIST_data/', download=True, train=True, transform=tensor)\n",
                "loteValidacao = torch.utils.data.DataLoader(conjuntoValidacao, batch_size=64, shuffle=True)"
            ],
            "outputs": [],
            "metadata": {}
        },
        {
            "cell_type": "code",
            "execution_count": 45,
            "source": [
                "dadosIterator = iter(loteTreino)\n",
                "imagens, etiquetas = dadosIterator.next()\n",
                "plt.imshow(imagens[0].numpy().squeeze(), cmap='Purples')"
            ],
            "outputs": [
                {
                    "output_type": "execute_result",
                    "data": {
                        "text/plain": [
                            "<matplotlib.image.AxesImage at 0x133d6bfd0>"
                        ]
                    },
                    "metadata": {},
                    "execution_count": 45
                },
                {
                    "output_type": "display_data",
                    "data": {
                        "image/png": "[encoded data removed]",
                        "text/plain": [
                            "<Figure size 432x288 with 1 Axes>"
                        ]
                    },
                    "metadata": {
                        "needs_background": "light"
                    }
                }
            ],
            "metadata": {}
        },
        {
            "cell_type": "code",
            "execution_count": 46,
            "source": [
                "print(imagens[0].shape) # para vermos as dimensões dos tensores imagens\n",
                "print(etiquetas[0].shape) # por ser escalar não tem uma dimensão"
            ],
            "outputs": [
                {
                    "output_type": "stream",
                    "name": "stdout",
                    "text": [
                        "torch.Size([1, 28, 28])\n",
                        "torch.Size([])\n"
                    ]
                }
            ],
            "metadata": {}
        },
        {
            "cell_type": "code",
            "execution_count": 47,
            "source": [
                "print(imagens[0])\n",
                "print(etiquetas[0])"
            ],
            "outputs": [
                {
                    "output_type": "stream",
                    "name": "stdout",
                    "text": [
                        "tensor([[[0.0000, 0.0000, 0.0000, 0.0000, 0.0000, 0.0000, 0.0000, 0.0000,\n",
                        "          0.0000, 0.0000, 0.0000, 0.0000, 0.0000, 0.0000, 0.0000, 0.0000,\n",
                        "          0.0000, 0.0000, 0.0000, 0.0000, 0.0000, 0.0000, 0.0000, 0.0000,\n",
                        "          0.0000, 0.0000, 0.0000, 0.0000],\n",
                        "         [0.0000, 0.0000, 0.0000, 0.0000, 0.0000, 0.0000, 0.0000, 0.0000,\n",
                        "          0.0000, 0.0000, 0.0000, 0.0000, 0.0000, 0.0000, 0.0000, 0.0000,\n",
                        "          0.0000, 0.0000, 0.0000, 0.0000, 0.0000, 0.0000, 0.0000, 0.0000,\n",
                        "          0.0000, 0.0000, 0.0000, 0.0000],\n",
                        "         [0.0000, 0.0000, 0.0000, 0.0000, 0.0000, 0.0000, 0.0000, 0.0000,\n",
                        "          0.0000, 0.0000, 0.0000, 0.0000, 0.0000, 0.0000, 0.0000, 0.0000,\n",
                        "          0.0000, 0.0000, 0.0000, 0.0000, 0.0000, 0.0000, 0.0000, 0.0000,\n",
                        "          0.0000, 0.0000, 0.0000, 0.0000],\n",
                        "         [0.0000, 0.0000, 0.0000, 0.0000, 0.0000, 0.0000, 0.0000, 0.0000,\n",
                        "          0.0000, 0.0000, 0.0000, 0.0000, 0.0000, 0.0000, 0.0000, 0.0000,\n",
                        "          0.0000, 0.0000, 0.0000, 0.0000, 0.0000, 0.0000, 0.0000, 0.0000,\n",
                        "          0.0000, 0.0000, 0.0000, 0.0000],\n",
                        "         [0.0000, 0.0000, 0.0000, 0.0000, 0.0000, 0.0000, 0.0000, 0.0000,\n",
                        "          0.0000, 0.0000, 0.0000, 0.0000, 0.0000, 0.0000, 0.0000, 0.0000,\n",
                        "          0.0000, 0.0000, 0.0000, 0.0000, 0.0000, 0.0000, 0.0000, 0.0000,\n",
                        "          0.0000, 0.0000, 0.0000, 0.0000],\n",
                        "         [0.0000, 0.0000, 0.0000, 0.0000, 0.0000, 0.0000, 0.0000, 0.0000,\n",
                        "          0.0000, 0.0000, 0.0000, 0.0000, 0.0000, 0.0000, 0.0000, 0.0000,\n",
                        "          0.0000, 0.0000, 0.0000, 0.0000, 0.0000, 0.0000, 0.0000, 0.0000,\n",
                        "          0.0000, 0.0000, 0.0000, 0.0000],\n",
                        "         [0.0000, 0.0000, 0.0000, 0.0000, 0.0000, 0.0000, 0.1294, 0.0000,\n",
                        "          0.0000, 0.0000, 0.0000, 0.0000, 0.0000, 0.0000, 0.0000, 0.0000,\n",
                        "          0.0000, 0.0000, 0.0000, 0.1216, 0.1490, 0.4431, 0.7451, 1.0000,\n",
                        "          0.8784, 0.3961, 0.0000, 0.0000],\n",
                        "         [0.0000, 0.0000, 0.0000, 0.0000, 0.0000, 0.0000, 0.9569, 0.7216,\n",
                        "          0.7216, 0.7216, 0.7216, 0.5216, 0.2980, 0.2980, 0.2980, 0.3922,\n",
                        "          0.7216, 0.7216, 0.7216, 0.9412, 0.9922, 0.9922, 0.9922, 0.9922,\n",
                        "          0.9922, 0.8667, 0.0000, 0.0000],\n",
                        "         [0.0000, 0.0000, 0.0000, 0.0000, 0.0000, 0.0000, 0.6118, 0.9725,\n",
                        "          0.9922, 0.9922, 0.9922, 0.9922, 0.9922, 0.9922, 0.9922, 0.9922,\n",
                        "          0.9922, 0.9922, 0.9922, 0.9922, 0.9922, 0.9725, 0.6196, 0.4980,\n",
                        "          0.1255, 0.0745, 0.0000, 0.0000],\n",
                        "         [0.0000, 0.0000, 0.0000, 0.0000, 0.0000, 0.0000, 0.0000, 0.0510,\n",
                        "          0.8902, 0.9922, 0.9922, 0.9922, 0.9608, 0.8235, 0.8235, 0.8235,\n",
                        "          0.8235, 0.6039, 0.4039, 0.4039, 0.3608, 0.0000, 0.0000, 0.0000,\n",
                        "          0.0000, 0.0000, 0.0000, 0.0000],\n",
                        "         [0.0000, 0.0000, 0.0000, 0.0000, 0.0000, 0.0000, 0.0000, 0.6157,\n",
                        "          0.9922, 0.9922, 0.9922, 0.9922, 0.6667, 0.0000, 0.0000, 0.0000,\n",
                        "          0.0000, 0.0000, 0.0000, 0.0000, 0.0000, 0.0000, 0.0000, 0.0000,\n",
                        "          0.0000, 0.0000, 0.0000, 0.0000],\n",
                        "         [0.0000, 0.0000, 0.0000, 0.0000, 0.0000, 0.0000, 0.0706, 0.8510,\n",
                        "          0.9922, 0.9137, 0.3922, 0.1059, 0.0392, 0.0000, 0.0000, 0.0000,\n",
                        "          0.0000, 0.0000, 0.0000, 0.0000, 0.0000, 0.0000, 0.0000, 0.0000,\n",
                        "          0.0000, 0.0000, 0.0000, 0.0000],\n",
                        "         [0.0000, 0.0000, 0.0000, 0.0000, 0.0000, 0.0000, 0.1490, 0.9922,\n",
                        "          0.9922, 0.8235, 0.0000, 0.0000, 0.0000, 0.0000, 0.0000, 0.0000,\n",
                        "          0.0000, 0.0000, 0.0000, 0.0000, 0.0000, 0.0000, 0.0000, 0.0000,\n",
                        "          0.0000, 0.0000, 0.0000, 0.0000],\n",
                        "         [0.0000, 0.0000, 0.0000, 0.0000, 0.0000, 0.0000, 0.1490, 0.9922,\n",
                        "          0.9922, 0.5020, 0.0000, 0.0000, 0.0000, 0.0000, 0.0000, 0.0000,\n",
                        "          0.0000, 0.0000, 0.0000, 0.0000, 0.0000, 0.0000, 0.0000, 0.0000,\n",
                        "          0.0000, 0.0000, 0.0000, 0.0000],\n",
                        "         [0.0000, 0.0000, 0.0000, 0.0000, 0.0000, 0.0000, 0.0784, 0.8588,\n",
                        "          0.9922, 0.6196, 0.0196, 0.0000, 0.0000, 0.0000, 0.0000, 0.0000,\n",
                        "          0.0000, 0.0000, 0.0000, 0.0000, 0.0000, 0.0000, 0.0000, 0.0000,\n",
                        "          0.0000, 0.0000, 0.0000, 0.0000],\n",
                        "         [0.0000, 0.0000, 0.0000, 0.0000, 0.0000, 0.0000, 0.0000, 0.6314,\n",
                        "          0.9922, 0.9922, 0.7255, 0.6353, 0.6353, 0.6353, 0.2510, 0.2157,\n",
                        "          0.2157, 0.2157, 0.1647, 0.0000, 0.0000, 0.0000, 0.0000, 0.0000,\n",
                        "          0.0000, 0.0000, 0.0000, 0.0000],\n",
                        "         [0.0000, 0.0000, 0.0000, 0.0000, 0.0000, 0.0000, 0.0000, 0.0627,\n",
                        "          0.4000, 0.8471, 0.9922, 0.9922, 0.9922, 0.9922, 0.9922, 0.9922,\n",
                        "          0.9922, 0.9922, 0.9451, 0.7843, 0.5569, 0.2706, 0.0000, 0.0000,\n",
                        "          0.0000, 0.0000, 0.0000, 0.0000],\n",
                        "         [0.0000, 0.0000, 0.0000, 0.0000, 0.0000, 0.0000, 0.0000, 0.0000,\n",
                        "          0.0000, 0.0392, 0.0627, 0.0627, 0.0627, 0.2078, 0.4863, 0.4863,\n",
                        "          0.4863, 0.4863, 0.4863, 0.6471, 0.9922, 0.9804, 0.7608, 0.0824,\n",
                        "          0.0000, 0.0000, 0.0000, 0.0000],\n",
                        "         [0.0000, 0.0000, 0.0000, 0.0000, 0.0000, 0.0000, 0.0000, 0.0000,\n",
                        "          0.0000, 0.0000, 0.0000, 0.0000, 0.0000, 0.0000, 0.0000, 0.0000,\n",
                        "          0.0000, 0.0000, 0.0000, 0.0902, 0.9647, 0.9922, 0.9922, 0.8667,\n",
                        "          0.0000, 0.0000, 0.0000, 0.0000],\n",
                        "         [0.0000, 0.0000, 0.0000, 0.0000, 0.0000, 0.0000, 0.0000, 0.0000,\n",
                        "          0.0000, 0.0000, 0.0000, 0.0000, 0.0000, 0.0000, 0.0000, 0.0000,\n",
                        "          0.0000, 0.2000, 0.4863, 0.8784, 0.9922, 0.9922, 0.9922, 0.7020,\n",
                        "          0.0000, 0.0000, 0.0000, 0.0000],\n",
                        "         [0.0000, 0.0000, 0.0000, 0.0000, 0.0000, 0.0000, 0.0000, 0.0000,\n",
                        "          0.0000, 0.0000, 0.0000, 0.0000, 0.0000, 0.0000, 0.0000, 0.0235,\n",
                        "          0.4431, 0.9490, 0.9922, 0.9922, 0.9922, 0.9216, 0.3647, 0.0196,\n",
                        "          0.0000, 0.0000, 0.0000, 0.0000],\n",
                        "         [0.0000, 0.0000, 0.0000, 0.0000, 0.0000, 0.0000, 0.0000, 0.0000,\n",
                        "          0.0000, 0.0000, 0.0000, 0.0000, 0.0000, 0.2000, 0.2863, 0.7451,\n",
                        "          0.9922, 0.9922, 0.9922, 0.8941, 0.5098, 0.1020, 0.0000, 0.0000,\n",
                        "          0.0000, 0.0000, 0.0000, 0.0000],\n",
                        "         [0.0000, 0.0000, 0.0000, 0.0000, 0.0000, 0.0000, 0.0000, 0.0000,\n",
                        "          0.0000, 0.0000, 0.1333, 0.4235, 0.8275, 0.9569, 0.9922, 0.9922,\n",
                        "          0.9922, 0.9922, 0.6275, 0.1059, 0.0000, 0.0000, 0.0000, 0.0000,\n",
                        "          0.0000, 0.0000, 0.0000, 0.0000],\n",
                        "         [0.0000, 0.0000, 0.0000, 0.0000, 0.0000, 0.0000, 0.0000, 0.0941,\n",
                        "          0.5020, 0.6235, 0.9804, 0.9922, 0.9922, 0.9922, 0.9294, 0.8667,\n",
                        "          0.5294, 0.2275, 0.0078, 0.0000, 0.0000, 0.0000, 0.0000, 0.0000,\n",
                        "          0.0000, 0.0000, 0.0000, 0.0000],\n",
                        "         [0.0000, 0.0000, 0.0000, 0.0000, 0.0000, 0.0000, 0.3451, 0.9137,\n",
                        "          0.9922, 0.9922, 0.9922, 0.8627, 0.7176, 0.5725, 0.1529, 0.0000,\n",
                        "          0.0000, 0.0000, 0.0000, 0.0000, 0.0000, 0.0000, 0.0000, 0.0000,\n",
                        "          0.0000, 0.0000, 0.0000, 0.0000],\n",
                        "         [0.0000, 0.0000, 0.0000, 0.0000, 0.0000, 0.0000, 0.2118, 0.8784,\n",
                        "          0.8039, 0.5686, 0.2549, 0.0784, 0.0000, 0.0000, 0.0000, 0.0000,\n",
                        "          0.0000, 0.0000, 0.0000, 0.0000, 0.0000, 0.0000, 0.0000, 0.0000,\n",
                        "          0.0000, 0.0000, 0.0000, 0.0000],\n",
                        "         [0.0000, 0.0000, 0.0000, 0.0000, 0.0000, 0.0000, 0.0000, 0.0000,\n",
                        "          0.0000, 0.0000, 0.0000, 0.0000, 0.0000, 0.0000, 0.0000, 0.0000,\n",
                        "          0.0000, 0.0000, 0.0000, 0.0000, 0.0000, 0.0000, 0.0000, 0.0000,\n",
                        "          0.0000, 0.0000, 0.0000, 0.0000],\n",
                        "         [0.0000, 0.0000, 0.0000, 0.0000, 0.0000, 0.0000, 0.0000, 0.0000,\n",
                        "          0.0000, 0.0000, 0.0000, 0.0000, 0.0000, 0.0000, 0.0000, 0.0000,\n",
                        "          0.0000, 0.0000, 0.0000, 0.0000, 0.0000, 0.0000, 0.0000, 0.0000,\n",
                        "          0.0000, 0.0000, 0.0000, 0.0000]]])\n",
                        "tensor(5)\n"
                    ]
                }
            ],
            "metadata": {}
        },
        {
            "cell_type": "code",
            "execution_count": 17,
            "source": [
                "class RedeNeural(nn.Module):\n",
                "    def __init__(self):\n",
                "        super(RedeNeural, self).__init__()\n",
                "        self.linear1 = nn.Linear(28*28, 128) # camada de entrada, 784 neurônios que se ligam a 128\n",
                "        self.linear2 = nn.Linear(128, 64) # camada interna 1, 128 neurônios que se ligam a 64\n",
                "        self.linear3 = nn.Linear(64, 10) # camada interna 2, 64 neurônios que se ligam a 10\n",
                "        # para a camada de saida não e necessário definir nada pois só precisamos pegar o output da camada interna 2\n",
                "        \n",
                "    def forward(self,X):\n",
                "        X = F.relu(self.linear1(X)) # função de ativação da camada de entrada para a camada interna 1\n",
                "        X = F.relu(self.linear2(X)) # função de ativação da camada interna 1 para a camada interna 2\n",
                "        X = self.linear3(X) # função de ativação da camada interna 2 para a camada de saída\n",
                "        return F.log_softmax(X, dim=1) # dado utilizado para calcular a perda"
            ],
            "outputs": [],
            "metadata": {}
        },
        {
            "cell_type": "code",
            "execution_count": 19,
            "source": [
                "def treino(modelo, loteTreino, device):\n",
                "    \n",
                "    otimizador = optim.SGD(modelo.parameters(), lr=0.01, momentum=0.5) # define a polítca de atualização dos pesos e da bias\n",
                "    inicio = time() # timer para sabermos quanto tempo levou o treino\n",
                "    \n",
                "    criterio = nn.NLLLoss() # definindo o criterio para calcular a perda\n",
                "    EPOCHS = 33 # numero de epochs que o algoritmo rodará\n",
                "    modelo.train() # ativando o modo de treinamento do modelo\n",
                "    j = 0\n",
                "    for epoch in range(EPOCHS):\n",
                "        perda_acumulada = 0 # inicialização da perda acumulada da epoch em questão\n",
                "        \n",
                "        for imagens, etiquetas in loteTreino:\n",
                "            \n",
                "            imagens = imagens.view(imagens.shape[0], -1) # convertendo as imagens para  \"vetores\" de 28*28 casas para ficarem compatíveis com a camada de entrada\n",
                "            otimizador.zero_grad() # zerando os gradientes por conta do ciclo anterior\n",
                "            \n",
                "            output = modelo(imagens.to(device)) # colocando os dados no modelo\n",
                "            perda_instantanea = criterio(output, etiquetas.to(device)) # calculando a perda da epoch em questão\n",
                "            \n",
                "            perda_instantanea.backward() # back propagation a partir da perda\n",
                "            \n",
                "            otimizador.step() # atualizando os pesos e a bias\n",
                "            \n",
                "            perda_acumulada += perda_instantanea.item() # atualização da perda acumulada\n",
                "        \n",
                "        \n",
                "        else:\n",
                "            print(\"Epoch {} - Perda resultante: {}\".format(epoch+1, perda_acumulada/len(loteTreino)))\n",
                "    print(\"\\nTempo de treino (em minutos) =\",(time()-inicio)/60)"
            ],
            "outputs": [],
            "metadata": {}
        },
        {
            "cell_type": "code",
            "execution_count": 48,
            "source": [
                "def validacao(modelo, valloader, device):\n",
                "    conta_corretas, conta_todas = 0, 0\n",
                "    for imagens,etiquetas in valloader:\n",
                "      for i in range(len(etiquetas)):\n",
                "        img = imagens[i].view(1, 784)\n",
                "        # desativar o gradiente para acelerar a validação. Grafos computacionais dinâmicos tem um custo alto de processamento\n",
                "        with torch.no_grad():\n",
                "            logps = modelo(img.to(device)) # output do modelo em escala logaritmica\n",
                "\n",
                "        \n",
                "        ps = torch.exp(logps) # converte output para escala normal(lembrando que é um tensor)\n",
                "        probab = list(ps.cpu().numpy()[0])\n",
                "        etiqueta_pred = probab.index(max(probab)) # converte o tensor em um número, no caso, o número que o modelo previu como correto \n",
                "        etiqueta_certa = etiquetas.numpy()[i] \n",
                "        if(etiqueta_certa == etiqueta_pred): # compara a previsão com o valor correto\n",
                "          conta_corretas += 1\n",
                "        conta_todas += 1\n",
                "\n",
                "    print(\"Total de imagens testadas =\", conta_todas)\n",
                "    print(\"\\nPrecisão do modelo = {}%\".format(conta_corretas*100/conta_todas))"
            ],
            "outputs": [],
            "metadata": {}
        },
        {
            "cell_type": "code",
            "execution_count": 49,
            "source": [
                "def visualiza_pred(img, ps):\n",
                "\n",
                "    ps = ps.data.cpu().numpy().squeeze()\n",
                "\n",
                "    fig, (ax1, ax2) = plt.subplots(figsize=(6,9), ncols=2)\n",
                "    ax1.imshow(img.resize_(1, 28, 28).numpy().squeeze(), cmap='Purples')\n",
                "    ax1.axis('off')\n",
                "    ax2.barh(np.arange(10), ps)\n",
                "    ax2.set_aspect(0.1)\n",
                "    ax2.set_yticks(np.arange(10))\n",
                "    ax2.set_yticklabels(np.arange(10))\n",
                "    ax2.set_title('Palpite do dígito')\n",
                "    ax2.set_xlim(0, 1.1)\n",
                "    plt.tight_layout()"
            ],
            "outputs": [],
            "metadata": {}
        },
        {
            "cell_type": "code",
            "execution_count": 50,
            "source": [
                "modelo = RedeNeural() # inicializa o modelo\n",
                "\n",
                "device = torch.device(\"cuda\" if torch.cuda.is_available() else \"cpu\") # modelo rodará na GPU se possível\n",
                "modelo.to(device)"
            ],
            "outputs": [
                {
                    "output_type": "execute_result",
                    "data": {
                        "text/plain": [
                            "RedeNeural(\n",
                            "  (linear1): Linear(in_features=784, out_features=128, bias=True)\n",
                            "  (linear2): Linear(in_features=128, out_features=64, bias=True)\n",
                            "  (linear3): Linear(in_features=64, out_features=10, bias=True)\n",
                            ")"
                        ]
                    },
                    "metadata": {},
                    "execution_count": 50
                }
            ],
            "metadata": {}
        },
        {
            "cell_type": "code",
            "execution_count": 51,
            "source": [
                "treino(modelo, loteTreino, device)\n"
            ],
            "outputs": [
                {
                    "output_type": "stream",
                    "name": "stdout",
                    "text": [
                        "Epoch 1 - Perda resultante: 1.1728012280137554\n",
                        "Epoch 2 - Perda resultante: 0.375899792789841\n",
                        "Epoch 3 - Perda resultante: 0.30629001700007585\n",
                        "Epoch 4 - Perda resultante: 0.26608784663588253\n",
                        "Epoch 5 - Perda resultante: 0.2354312343542764\n",
                        "Epoch 6 - Perda resultante: 0.21063735249883203\n",
                        "Epoch 7 - Perda resultante: 0.1899023214732406\n",
                        "Epoch 8 - Perda resultante: 0.17291332736833773\n",
                        "Epoch 9 - Perda resultante: 0.15870456885236667\n",
                        "Epoch 10 - Perda resultante: 0.145517004699484\n",
                        "Epoch 11 - Perda resultante: 0.13408653911894192\n",
                        "Epoch 12 - Perda resultante: 0.12384053748617294\n",
                        "Epoch 13 - Perda resultante: 0.11461342113322891\n",
                        "Epoch 14 - Perda resultante: 0.10693047374689471\n",
                        "Epoch 15 - Perda resultante: 0.09982281502908164\n",
                        "Epoch 16 - Perda resultante: 0.09386016246574774\n",
                        "Epoch 17 - Perda resultante: 0.08774263767608956\n",
                        "Epoch 18 - Perda resultante: 0.08287550474920158\n",
                        "Epoch 19 - Perda resultante: 0.07796292594457263\n",
                        "Epoch 20 - Perda resultante: 0.07381822812710521\n",
                        "Epoch 21 - Perda resultante: 0.06970285620691298\n",
                        "Epoch 22 - Perda resultante: 0.0661989352963706\n",
                        "Epoch 23 - Perda resultante: 0.0625926240010739\n",
                        "Epoch 24 - Perda resultante: 0.05985873938450761\n",
                        "Epoch 25 - Perda resultante: 0.056418480462273525\n",
                        "Epoch 26 - Perda resultante: 0.053782581375030156\n",
                        "Epoch 27 - Perda resultante: 0.05121328098836468\n",
                        "Epoch 28 - Perda resultante: 0.048977356812140264\n",
                        "Epoch 29 - Perda resultante: 0.04666653812241389\n",
                        "Epoch 30 - Perda resultante: 0.0442017221059809\n",
                        "Epoch 31 - Perda resultante: 0.04243625665003104\n",
                        "Epoch 32 - Perda resultante: 0.04005351960524988\n",
                        "Epoch 33 - Perda resultante: 0.03866716860450987\n",
                        "\n",
                        "Tempo de treino (em minutos) = 10.499994150797527\n"
                    ]
                }
            ],
            "metadata": {}
        },
        {
            "cell_type": "code",
            "execution_count": 52,
            "source": [
                "validacao(modelo, loteValidacao, device)"
            ],
            "outputs": [
                {
                    "output_type": "stream",
                    "name": "stdout",
                    "text": [
                        "Total de imagens testadas = 60000\n",
                        "\n",
                        "Precisão do modelo = 99.08333333333333%\n"
                    ]
                }
            ],
            "metadata": {}
        },
        {
            "cell_type": "code",
            "execution_count": 68,
            "source": [
                "imagens, etiquetas = next(iter(loteValidacao))\n",
                "\n",
                "img = imagens[0].view(1, 784)\n",
                "with torch.no_grad():\n",
                "    logps = modelo(img.to(device))\n",
                "\n",
                "ps = torch.exp(logps)\n",
                "probab = list(ps.cpu().numpy()[0])\n",
                "print(\"Número previsto =\", probab.index(max(probab)))\n",
                "visualiza_pred(img.view(1, 28, 28), ps)"
            ],
            "outputs": [
                {
                    "output_type": "stream",
                    "name": "stdout",
                    "text": [
                        "Número previsto = 1\n"
                    ]
                },
                {
                    "output_type": "display_data",
                    "data": {
                        "image/png": "[encoded data removed]",
                        "text/plain": [
                            "<Figure size 432x648 with 2 Axes>"
                        ]
                    },
                    "metadata": {
                        "needs_background": "light"
                    }
                }
            ],
            "metadata": {}
        },
        {
            "cell_type": "code",
            "execution_count": 65,
            "source": [
                "torch.save(modelo.state_dict(), './meu_modelo.pt') # para salvar o modelo\n",
                "\n",
                "# para carregar o modelo\n",
                "modelo_carregado = RedeNeural()\n",
                "\n",
                "modelo_carregado.load_state_dict(torch.load('./meu_modelo.pt'))\n",
                "modelo_carregado.eval()\n",
                "modelo_carregado.to(device)"
            ],
            "outputs": [
                {
                    "output_type": "execute_result",
                    "data": {
                        "text/plain": [
                            "RedeNeural(\n",
                            "  (linear1): Linear(in_features=784, out_features=128, bias=True)\n",
                            "  (linear2): Linear(in_features=128, out_features=64, bias=True)\n",
                            "  (linear3): Linear(in_features=64, out_features=10, bias=True)\n",
                            ")"
                        ]
                    },
                    "metadata": {},
                    "execution_count": 65
                }
            ],
            "metadata": {}
        },
        {
            "cell_type": "code",
            "execution_count": null,
            "source": [],
            "outputs": [],
            "metadata": {}
        }
    ],
    "metadata": {
        "orig_nbformat": 4,
        "language_info": {
            "name": "python",
            "version": "3.9.6",
            "mimetype": "text/x-python",
            "codemirror_mode": {
                "name": "ipython",
                "version": 3
            },
            "pygments_lexer": "ipython3",
            "nbconvert_exporter": "python",
            "file_extension": ".py"
        },
        "kernelspec": {
            "name": "python3",
            "display_name": "Python 3.9.6 64-bit"
        },
        "interpreter": {
            "hash": "ac2eaa0ea0ebeafcc7822e65e46aa9d4f966f30b695406963e145ea4a91cd4fc"
        }
    },
    "nbformat": 4,
    "nbformat_minor": 2
}